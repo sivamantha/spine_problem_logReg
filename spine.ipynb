{
 "metadata": {
  "language_info": {
   "codemirror_mode": {
    "name": "ipython",
    "version": 3
   },
   "file_extension": ".py",
   "mimetype": "text/x-python",
   "name": "python",
   "nbconvert_exporter": "python",
   "pygments_lexer": "ipython3",
   "version": "3.8.3-final"
  },
  "orig_nbformat": 2,
  "kernelspec": {
   "name": "Python 3.8.3 64-bit ('base': conda)",
   "display_name": "Python 3.8.3 64-bit ('base': conda)",
   "metadata": {
    "interpreter": {
     "hash": "8ecd9ef8d50513d082cb0709998a850f79bfba54a73601ae20a53fad4901306d"
    }
   }
  }
 },
 "nbformat": 4,
 "nbformat_minor": 2,
 "cells": [
  {
   "cell_type": "code",
   "execution_count": 1,
   "metadata": {},
   "outputs": [],
   "source": [
    "# Importing relevant libraries\n",
    "import numpy as np \n",
    "import pandas as pd\n",
    "from pydataset import data\n",
    "from sklearn.linear_model import LogisticRegression\n",
    "from sklearn.model_selection import train_test_split\n",
    "from sklearn.metrics import confusion_matrix \n",
    "from sklearn.metrics import accuracy_score\n",
    "from sklearn.metrics import classification_report"
   ]
  },
  {
   "cell_type": "code",
   "execution_count": 4,
   "metadata": {},
   "outputs": [
    {
     "output_type": "execute_result",
     "data": {
      "text/plain": [
       "     pelvic_incidence   pelvic_tilt  lumbar_lordosis_angle  sacral_slope  \\\n",
       "265         48.170746      9.594217              39.710920     38.576530   \n",
       "153         57.286945     15.149350              64.000000     42.137595   \n",
       "83          81.104100     24.794168              77.887020     56.309932   \n",
       "141         89.504947     48.903653              72.003423     40.601295   \n",
       "11          31.232387     17.715819              15.500000     13.516568   \n",
       "\n",
       "     pelvic_radius   degree_spondylolisthesis  pelvic_slope  Direct_tilt  \\\n",
       "265     135.623310                   5.360051      0.859960      21.7568   \n",
       "153     116.735387                  30.341203      0.431125      22.2530   \n",
       "83      151.839857                  65.214616      0.972006      10.5715   \n",
       "141     134.634291                 118.353370      0.039380      19.8712   \n",
       "11      120.055399                   0.499751      0.608343      21.4356   \n",
       "\n",
       "     thoracic_slope  cervical_tilt  sacrum_angle  scoliosis_slope     Class  \n",
       "265         14.4180       12.55075    -24.517621          18.4675    Normal  \n",
       "153         17.6755       12.20726    -21.986137          23.1484  Abnormal  \n",
       "83          11.2339       13.29506    -12.139219          11.8487  Abnormal  \n",
       "141          8.9861       14.77008      6.868423          29.1844  Abnormal  \n",
       "11           9.2589       14.76412    -21.724559          36.4449  Abnormal  "
      ],
      "text/html": "<div>\n<style scoped>\n    .dataframe tbody tr th:only-of-type {\n        vertical-align: middle;\n    }\n\n    .dataframe tbody tr th {\n        vertical-align: top;\n    }\n\n    .dataframe thead th {\n        text-align: right;\n    }\n</style>\n<table border=\"1\" class=\"dataframe\">\n  <thead>\n    <tr style=\"text-align: right;\">\n      <th></th>\n      <th>pelvic_incidence</th>\n      <th>pelvic_tilt</th>\n      <th>lumbar_lordosis_angle</th>\n      <th>sacral_slope</th>\n      <th>pelvic_radius</th>\n      <th>degree_spondylolisthesis</th>\n      <th>pelvic_slope</th>\n      <th>Direct_tilt</th>\n      <th>thoracic_slope</th>\n      <th>cervical_tilt</th>\n      <th>sacrum_angle</th>\n      <th>scoliosis_slope</th>\n      <th>Class</th>\n    </tr>\n  </thead>\n  <tbody>\n    <tr>\n      <th>265</th>\n      <td>48.170746</td>\n      <td>9.594217</td>\n      <td>39.710920</td>\n      <td>38.576530</td>\n      <td>135.623310</td>\n      <td>5.360051</td>\n      <td>0.859960</td>\n      <td>21.7568</td>\n      <td>14.4180</td>\n      <td>12.55075</td>\n      <td>-24.517621</td>\n      <td>18.4675</td>\n      <td>Normal</td>\n    </tr>\n    <tr>\n      <th>153</th>\n      <td>57.286945</td>\n      <td>15.149350</td>\n      <td>64.000000</td>\n      <td>42.137595</td>\n      <td>116.735387</td>\n      <td>30.341203</td>\n      <td>0.431125</td>\n      <td>22.2530</td>\n      <td>17.6755</td>\n      <td>12.20726</td>\n      <td>-21.986137</td>\n      <td>23.1484</td>\n      <td>Abnormal</td>\n    </tr>\n    <tr>\n      <th>83</th>\n      <td>81.104100</td>\n      <td>24.794168</td>\n      <td>77.887020</td>\n      <td>56.309932</td>\n      <td>151.839857</td>\n      <td>65.214616</td>\n      <td>0.972006</td>\n      <td>10.5715</td>\n      <td>11.2339</td>\n      <td>13.29506</td>\n      <td>-12.139219</td>\n      <td>11.8487</td>\n      <td>Abnormal</td>\n    </tr>\n    <tr>\n      <th>141</th>\n      <td>89.504947</td>\n      <td>48.903653</td>\n      <td>72.003423</td>\n      <td>40.601295</td>\n      <td>134.634291</td>\n      <td>118.353370</td>\n      <td>0.039380</td>\n      <td>19.8712</td>\n      <td>8.9861</td>\n      <td>14.77008</td>\n      <td>6.868423</td>\n      <td>29.1844</td>\n      <td>Abnormal</td>\n    </tr>\n    <tr>\n      <th>11</th>\n      <td>31.232387</td>\n      <td>17.715819</td>\n      <td>15.500000</td>\n      <td>13.516568</td>\n      <td>120.055399</td>\n      <td>0.499751</td>\n      <td>0.608343</td>\n      <td>21.4356</td>\n      <td>9.2589</td>\n      <td>14.76412</td>\n      <td>-21.724559</td>\n      <td>36.4449</td>\n      <td>Abnormal</td>\n    </tr>\n  </tbody>\n</table>\n</div>"
     },
     "metadata": {},
     "execution_count": 4
    }
   ],
   "source": [
    "#get the data\n",
    "spine = pd.read_csv('C:/Users/sivam/OneDrive/Projects/Logistic Regression/Spinal_pain/Dataset_spine.csv')\n",
    "spine.sample(5)"
   ]
  },
  {
   "cell_type": "code",
   "execution_count": 5,
   "metadata": {},
   "outputs": [],
   "source": [
    "# get dummies\n",
    "spine['Class'] = spine['Class'].map({'Abnormal':1,'Normal':0})"
   ]
  },
  {
   "cell_type": "code",
   "execution_count": 9,
   "metadata": {},
   "outputs": [],
   "source": [
    "y = spine['Class']\n",
    "x = spine.drop(['Class'], axis =1)\n",
    "x_train, x_test, y_train, y_test = train_test_split(x,y, test_size = 0.2, random_state = 29)"
   ]
  },
  {
   "cell_type": "code",
   "execution_count": 12,
   "metadata": {},
   "outputs": [
    {
     "output_type": "execute_result",
     "data": {
      "text/plain": [
       "LogisticRegression()"
      ]
     },
     "metadata": {},
     "execution_count": 12
    }
   ],
   "source": [
    "logreg = LogisticRegression()\n",
    "logreg.fit(x_train, y_train)"
   ]
  },
  {
   "cell_type": "code",
   "execution_count": 13,
   "metadata": {},
   "outputs": [],
   "source": [
    "y_pred = logreg.predict(x_test)"
   ]
  },
  {
   "cell_type": "code",
   "execution_count": 15,
   "metadata": {},
   "outputs": [
    {
     "output_type": "execute_result",
     "data": {
      "text/plain": [
       "          Predicted 0  Predicted 1\n",
       "Actual 0           15            4\n",
       "Actual 1            7           36"
      ],
      "text/html": "<div>\n<style scoped>\n    .dataframe tbody tr th:only-of-type {\n        vertical-align: middle;\n    }\n\n    .dataframe tbody tr th {\n        vertical-align: top;\n    }\n\n    .dataframe thead th {\n        text-align: right;\n    }\n</style>\n<table border=\"1\" class=\"dataframe\">\n  <thead>\n    <tr style=\"text-align: right;\">\n      <th></th>\n      <th>Predicted 0</th>\n      <th>Predicted 1</th>\n    </tr>\n  </thead>\n  <tbody>\n    <tr>\n      <th>Actual 0</th>\n      <td>15</td>\n      <td>4</td>\n    </tr>\n    <tr>\n      <th>Actual 1</th>\n      <td>7</td>\n      <td>36</td>\n    </tr>\n  </tbody>\n</table>\n</div>"
     },
     "metadata": {},
     "execution_count": 15
    }
   ],
   "source": [
    "cm = pd.DataFrame(confusion_matrix(y_test, y_pred))\n",
    "cm.columns = ['Predicted 0', 'Predicted 1']\n",
    "cm = cm.rename(index = {0:'Actual 0', 1:'Actual 1'})\n",
    "cm"
   ]
  },
  {
   "cell_type": "code",
   "execution_count": 17,
   "metadata": {},
   "outputs": [
    {
     "output_type": "execute_result",
     "data": {
      "text/plain": [
       "0.8225806451612904"
      ]
     },
     "metadata": {},
     "execution_count": 17
    }
   ],
   "source": [
    "accuracy_score(y_pred, y_test)"
   ]
  },
  {
   "cell_type": "code",
   "execution_count": null,
   "metadata": {},
   "outputs": [],
   "source": []
  }
 ]
}